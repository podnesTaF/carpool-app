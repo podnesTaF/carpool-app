{
 "cells": [
  {
   "cell_type": "code",
   "execution_count": 38,
   "metadata": {},
   "outputs": [
    {
     "name": "stdout",
     "output_type": "stream",
     "text": [
      "[==================================================] 100.0% 958.5/958.4MB downloaded\n"
     ]
    }
   ],
   "source": [
    "import gensim.downloader as api\n",
    "from gensim.models import FastText\n",
    "\n",
    "word_vectors = api.load(\"fasttext-wiki-news-subwords-300\") \n"
   ]
  },
  {
   "cell_type": "code",
   "execution_count": 49,
   "metadata": {},
   "outputs": [],
   "source": [
    "word_vectors.save('fastvec.bin')"
   ]
  },
  {
   "cell_type": "code",
   "execution_count": 66,
   "metadata": {},
   "outputs": [],
   "source": [
    "from gensim.models import KeyedVectors\n",
    "\n",
    "fasttext_vectors = KeyedVectors.load(\"fastvec.bin\")"
   ]
  },
  {
   "cell_type": "code",
   "execution_count": 67,
   "metadata": {},
   "outputs": [
    {
     "name": "stdout",
     "output_type": "stream",
     "text": [
      "Genres similar to 'rock':\n",
      "  rock: 1.00\n",
      "  rock-and-roll: 0.65\n",
      "  punk: 0.65\n",
      "  pop: 0.63\n",
      "  metal: 0.63\n",
      "  blues-rock: 0.62\n",
      "  protopunk: 0.61\n",
      "  britpop: 0.59\n",
      "  funk: 0.58\n",
      "  rockabilly: 0.58\n"
     ]
    }
   ],
   "source": [
    "import csv\n",
    "\n",
    "def load_genres_from_csv(file_path):\n",
    "    \"\"\"\n",
    "    Load genres from a CSV file into a list.\n",
    "    The CSV should have a header with \"name\" as a column.\n",
    "    \"\"\"\n",
    "    genres = []\n",
    "    with open(file_path, \"r\", encoding=\"utf-8\") as csv_file:\n",
    "        reader = csv.DictReader(csv_file)\n",
    "        for row in reader:\n",
    "            genres.append(row[\"name\"])\n",
    "    return genres\n",
    "\n",
    "\n",
    "# Function to calculate genre similarity\n",
    "def log_genre_similarity(genre, genres, topn=10):\n",
    "    \"\"\"\n",
    "    Log the top N similar genres using FastText embeddings.\n",
    "    \"\"\"\n",
    "\n",
    "    genre = genre.replace(\" \", \"-\")\n",
    "\n",
    "    if genre not in word_vectors:\n",
    "        print(f\"'{genre}' not found in FastText embeddings.\")\n",
    "        return\n",
    "\n",
    "    # Get vector for the given genre\n",
    "    genre_vector = word_vectors[genre]\n",
    "\n",
    "    # Calculate similarities with available genres\n",
    "    similar_genres = []\n",
    "    for g in genres:\n",
    "        if g in word_vectors:\n",
    "            score = word_vectors.similarity(genre, g)\n",
    "            similar_genres.append((g, score))\n",
    "\n",
    "    # Sort by similarity score and limit results\n",
    "    similar_genres = sorted(similar_genres, key=lambda x: -x[1])[:topn]\n",
    "\n",
    "    # Print results\n",
    "    print(f\"Genres similar to '{genre}':\")\n",
    "    for similar, score in similar_genres:\n",
    "        print(f\"  {similar}: {score:.2f}\")\n",
    "\n",
    "# Load genres from CSV\n",
    "genres_file = \"./genres.csv\"  # Replace with your actual path\n",
    "genres = load_genres_from_csv(genres_file)\n",
    "\n",
    "# Test: Log similar genres for a sample\n",
    "log_genre_similarity(\"rock\", genres)"
   ]
  },
  {
   "cell_type": "code",
   "execution_count": 37,
   "metadata": {},
   "outputs": [
    {
     "name": "stdout",
     "output_type": "stream",
     "text": [
      "Genres similar to 'dance pop':\n",
      "  dance: 0.86\n",
      "  pop: 0.86\n",
      "  music: 0.74\n",
      "  songs: 0.67\n",
      "  dancing: 0.65\n",
      "  hop: 0.65\n",
      "  song: 0.64\n",
      "  musical: 0.64\n",
      "  hip-hop: 0.63\n",
      "  folk: 0.63\n"
     ]
    }
   ],
   "source": [
    "def get_vector_for_phrase(model, phrase):\n",
    "    words = phrase.split()\n",
    "    vectors = [model[word] for word in words if word in model]\n",
    "    if not vectors:\n",
    "        raise ValueError(f\"None of the words in '{phrase}' are in the model vocabulary.\")\n",
    "    return sum(vectors) / len(vectors)\n",
    "\n",
    "\n",
    "def log_genre_similarity(model, genre, topn=10):\n",
    "    try:\n",
    "        vector = get_vector_for_phrase(model, genre)\n",
    "        similar = model.similar_by_vector(vector, topn=topn)\n",
    "        print(f\"Genres similar to '{genre}':\")\n",
    "        for similar_genre, score in similar:\n",
    "            print(f\"  {similar_genre}: {score:.2f}\")\n",
    "    except ValueError as e:\n",
    "        print(e)\n",
    "\n",
    "log_genre_similarity(word_vectors, \"dance pop\")\n",
    "\n",
    "# Save word vectors\n",
    "word_vectors.save('word_vectors.model')"
   ]
  },
  {
   "cell_type": "code",
   "execution_count": 35,
   "metadata": {},
   "outputs": [
    {
     "name": "stdout",
     "output_type": "stream",
     "text": [
      "Genres similar to 'soul' (filtered):\n",
      "  r&b: 0.53\n",
      "  pop: 0.52\n",
      "  blues: 0.48\n",
      "  funk: 0.47\n",
      "  rap: 0.47\n",
      "  rock: 0.45\n",
      "  hip-hop: 0.45\n",
      "  jazz: 0.44\n",
      "  punk: 0.40\n"
     ]
    }
   ],
   "source": [
    "valid_genres = {\n",
    "    \"rock\", \"punk\", \"metal\", \"pop\", \"indie\", \"alternative\", \"jazz\",\n",
    "    \"classical\", \"hip-hop\", \"blues\", \"funk\", \"electronic\", \"soul\", \"grunge\",\n",
    "    \"orchestral\", \"instrumental\", \"dance\", \"trap\", \"r&b\", \"rap\"\n",
    "}\n",
    "\n",
    "def filter_similarities(model, genre, valid_genres, threshold=0.5):\n",
    "    similar_genres = model.most_similar(genre, topn=10000)\n",
    "    filtered = [(g, score) for g, score in similar_genres if g in valid_genres and score > threshold]\n",
    "\n",
    "    print(f\"Genres similar to '{genre}' (filtered):\")\n",
    "    for g, score in filtered:\n",
    "        print(f\"  {g}: {score:.2f}\")\n",
    "\n",
    "filter_similarities(word_vectors, \"soul\", valid_genres, threshold=0.4)"
   ]
  },
  {
   "cell_type": "code",
   "execution_count": 68,
   "metadata": {},
   "outputs": [
    {
     "name": "stdout",
     "output_type": "stream",
     "text": [
      "'tropical-house' not found in FastText embeddings.\n",
      "'trap-music' not found in FastText embeddings.\n",
      "'neo-mellow' not found in FastText embeddings.\n",
      "'r&b' not found in FastText embeddings.\n",
      "User Similarity Matrix:\n",
      "[[1.         0.77048117 0.7126486  0.6961173  0.8373386 ]\n",
      " [0.77048117 1.         0.69991845 0.8043604  0.73256654]\n",
      " [0.7126486  0.69991845 1.         0.67184263 0.6879008 ]\n",
      " [0.6961173  0.8043604  0.67184263 1.0000005  0.6854836 ]\n",
      " [0.8373386  0.73256654 0.6879008  0.6854836  0.99999994]]\n",
      "\n",
      "User Groups Based on Similarity:\n",
      "Group 1: User1, User5\n",
      "Group 2: User2, User4\n",
      "Group 3: User3\n"
     ]
    }
   ],
   "source": [
    "from sklearn.metrics.pairwise import cosine_similarity\n",
    "import numpy as np\n",
    "\n",
    "playlists = {\n",
    "    \"User1\": [\"pop\", \"dance-pop\", \"tropical-house\", \"edm\"],\n",
    "    \"User2\": [\"rock\", \"classic-rock\", \"pop-rock\", \"alternative-rock\"],\n",
    "    \"User3\": [\"rap\", \"hip-hop\", \"trap-music\", \"pop-rap\"],\n",
    "    \"User4\": [\"folk-pop\", \"acoustic\", \"jazz\", \"blues\"],\n",
    "    \"User5\": [\"pop\", \"neo-mellow\", \"latin\", \"r&b\"],\n",
    "}\n",
    "\n",
    "\n",
    "\n",
    "def get_user_embedding(playlist):\n",
    "    vectors = []\n",
    "    for genre in playlist:\n",
    "        if genre in fasttext_vectors:\n",
    "            vectors.append(fasttext_vectors[genre])\n",
    "        else:\n",
    "            print(f\"'{genre}' not found in FastText embeddings.\")\n",
    "    if vectors:\n",
    "        return np.mean(vectors, axis=0)  # Average vector\n",
    "    else:\n",
    "        return np.zeros(fasttext_vectors.vector_size)\n",
    "    \n",
    "user_embeddings = {user: get_user_embedding(playlist) for user, playlist in playlists.items()}\n",
    "\n",
    "\n",
    "user_ids = list(user_embeddings.keys())\n",
    "embedding_matrix = np.array([user_embeddings[user] for user in user_ids])\n",
    "similarity_matrix = cosine_similarity(embedding_matrix)\n",
    "\n",
    "\n",
    "print(\"User Similarity Matrix:\")\n",
    "print(similarity_matrix)\n",
    "\n",
    "\n",
    "def group_users(similarity_matrix, threshold=0.9):\n",
    "    \"\"\"\n",
    "    Group users based on similarity threshold.\n",
    "    \"\"\"\n",
    "    groups = []\n",
    "    visited = set()\n",
    "\n",
    "    for i, user in enumerate(user_ids):\n",
    "        if i in visited:\n",
    "            continue\n",
    "        group = [user]\n",
    "        visited.add(i)\n",
    "        for j, other_user in enumerate(user_ids):\n",
    "            if j != i and similarity_matrix[i, j] >= threshold and j not in visited:\n",
    "                group.append(other_user)\n",
    "                visited.add(j)\n",
    "        groups.append(group)\n",
    "    \n",
    "    return groups\n",
    "\n",
    "\n",
    "# Group users and print results\n",
    "groups = group_users(similarity_matrix, threshold=0.8)\n",
    "print(\"\\nUser Groups Based on Similarity:\")\n",
    "for i, group in enumerate(groups, 1):\n",
    "    print(f\"Group {i}: {', '.join(group)}\")"
   ]
  }
 ],
 "metadata": {
  "kernelspec": {
   "display_name": "ai_env",
   "language": "python",
   "name": "python3"
  },
  "language_info": {
   "codemirror_mode": {
    "name": "ipython",
    "version": 3
   },
   "file_extension": ".py",
   "mimetype": "text/x-python",
   "name": "python",
   "nbconvert_exporter": "python",
   "pygments_lexer": "ipython3",
   "version": "3.12.8"
  }
 },
 "nbformat": 4,
 "nbformat_minor": 2
}
